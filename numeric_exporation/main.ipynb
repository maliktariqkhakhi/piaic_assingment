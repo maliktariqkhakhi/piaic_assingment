{
 "cells": [
  {
   "cell_type": "code",
   "execution_count": 47,
   "metadata": {},
   "outputs": [
    {
     "name": "stdout",
     "output_type": "stream",
     "text": [
      "Hello,malik! Let,s explore your favorite numbers:\n",
      "the number 122 is an even.\n",
      "the number 5 is odd.\n",
      "the number 6 is an even.\n",
      "number 122 and its square is 14884.\n",
      "number 5 and its square is 25.\n",
      "number 6 and its square is 36.\n",
      "The sum of your favorite number is : 133.\n",
      "the 133 is not a prime number but its still a special number\n"
     ]
    }
   ],
   "source": [
    "def is_prime(num):\n",
    "    if num <= 1:\n",
    "        return False\n",
    "    elif num == 2 : \n",
    "        return True\n",
    "    elif num % 2 == 0:\n",
    "        return False\n",
    "    for i in range(3, int(num **0.5) +1, 2):\n",
    "        if num % i ==0:\n",
    "            return False\n",
    "    return True\n",
    "\n",
    "\n",
    "def main():\n",
    "\n",
    "\n",
    "    name: str = input(\"Enter your name: \")\n",
    "    numbers: list[int] = []\n",
    "    first_favorite_number: int =int (input(\"Enter your first favorite number: \"))\n",
    "    numbers.append(first_favorite_number)\n",
    "    second_favorite_number: int = int(input(\"Enter your second favourite number:\"))\n",
    "\n",
    "    numbers.append(second_favorite_number)\n",
    "    third_favorite_number : int =int (input(\"Enter your third favorite number: \"))\n",
    "    numbers.append(third_favorite_number)\n",
    "    print(f\"Hello,{name}! Let,s explore your favorite numbers:\" )\n",
    "    list_tuple: list[tuple[int, int]] =[]\n",
    "    for num in numbers:\n",
    "        if num % 2 == 0:\n",
    "            print(f'the number {num} is an even.')\n",
    "            list_tuple.append((num, num **2))\n",
    "        else:\n",
    "            print(f'the number {num} is odd.')\n",
    "            list_tuple.append ((num, num**2))\n",
    "\n",
    "    for num, num_square in list_tuple:\n",
    "        print(f\"number {num} and its square is {num_square}.\")\n",
    "\n",
    "    total_sum: int = sum(numbers)\n",
    "    print(f\"The sum of your favorite number is : {total_sum}.\")\n",
    "    \n",
    "    if is_prime(total_sum):\n",
    "        print(f\"Amazing the {total_sum} is a prime number!\")\n",
    "    else: \n",
    "        print(f\"the {total_sum} is not a prime number but its still a special number\")\n",
    "\n",
    "if __name__ == \"__main__\":\n",
    "    main()"
   ]
  },
  {
   "cell_type": "code",
   "execution_count": null,
   "metadata": {},
   "outputs": [
    {
     "name": "stdout",
     "output_type": "stream",
     "text": [
      "1\n",
      "2\n",
      "3\n",
      "4\n",
      "5\n",
      "6\n"
     ]
    }
   ],
   "source": [
    "nums: list [int] = [1,2,3,4,5,6] \n",
    "for num in nums :\n",
    "    print(num)"
   ]
  },
  {
   "cell_type": "code",
   "execution_count": 35,
   "metadata": {},
   "outputs": [
    {
     "name": "stdout",
     "output_type": "stream",
     "text": [
      "mahad\n",
      "afnan\n",
      "zahid\n",
      "abk\n"
     ]
    }
   ],
   "source": [
    "favorite_friends:list [str]= ['mahad', 'afnan','zahid','abk',]\n",
    "for favouite in favorite_friends:\n",
    "    print(favouite)"
   ]
  }
 ],
 "metadata": {
  "kernelspec": {
   "display_name": "Python 3",
   "language": "python",
   "name": "python3"
  },
  "language_info": {
   "codemirror_mode": {
    "name": "ipython",
    "version": 3
   },
   "file_extension": ".py",
   "mimetype": "text/x-python",
   "name": "python",
   "nbconvert_exporter": "python",
   "pygments_lexer": "ipython3",
   "version": "3.12.1"
  }
 },
 "nbformat": 4,
 "nbformat_minor": 2
}

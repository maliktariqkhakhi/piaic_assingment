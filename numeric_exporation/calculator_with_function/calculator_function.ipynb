{
 "cells": [
  {
   "cell_type": "code",
   "execution_count": 7,
   "metadata": {},
   "outputs": [
    {
     "name": "stdout",
     "output_type": "stream",
     "text": [
      "the sum of 12.0,and 16.0 is:\n",
      "0.75\n"
     ]
    }
   ],
   "source": [
    "first_value:float=float(input(\"please enter first value\\n\"))\n",
    "second_value:float=float(input(\"please enter second value\\n\"))\n",
    "\n",
    "operations:str = input(\"Enter the operation(+,-,*,/)\")\n",
    "\n",
    "def add_number (first_value,second_value)->float:\n",
    "    print(f\"the sum of {first_value}, and {second_value} is:\")\n",
    "    return first_value + second_value\n",
    "\n",
    "def subtract_number (first_value,second_value)->float:\n",
    "    print(f\"the sum of {first_value},and {second_value} is:\")\n",
    "    return first_value - second_value\n",
    "\n",
    "def multiply_number (first_value, second_value)->float:\n",
    "    print(f\"the sum of {first_value},and{second_value} is:\")\n",
    "    return first_value * second_value\n",
    "\n",
    "def divide_number (first_value, second_value)->float:\n",
    "    print(f\"the sum of {first_value},and {second_value} is:\")\n",
    "    return first_value / second_value\n",
    "\n",
    "match operations:\n",
    "    case \"+\":\n",
    "        result: float = add_number(first_value=first_value, second_value=second_value)\n",
    "        print(result)\n",
    "    case \"-\":\n",
    "       result:float =  subtract_number(first_value=first_value, second_value=second_value) \n",
    "       print(result)   \n",
    "    case \"*\":\n",
    "        result:float = multiply_number(first_value=first_value, second_value=second_value)\n",
    "        print(result)\n",
    "    case \"/\":\n",
    "        result:float = divide_number(first_value=first_value, second_value=second_value)\n",
    "        print(result)"
   ]
  }
 ],
 "metadata": {
  "kernelspec": {
   "display_name": "Python 3",
   "language": "python",
   "name": "python3"
  },
  "language_info": {
   "codemirror_mode": {
    "name": "ipython",
    "version": 3
   },
   "file_extension": ".py",
   "mimetype": "text/x-python",
   "name": "python",
   "nbconvert_exporter": "python",
   "pygments_lexer": "ipython3",
   "version": "3.12.1"
  }
 },
 "nbformat": 4,
 "nbformat_minor": 2
}

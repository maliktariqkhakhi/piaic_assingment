{
 "cells": [
  {
   "cell_type": "code",
   "execution_count": 29,
   "metadata": {},
   "outputs": [
    {
     "name": "stdout",
     "output_type": "stream",
     "text": [
      "malik mahad\n",
      "ali\n",
      "afnan\n"
     ]
    }
   ],
   "source": [
    "name:list = [\"malik mahad\", \"ali\",  \"afnan\"]\n",
    "print(name[0])\n",
    "print(name[1])\n",
    "print(name[2])\n",
    "\n"
   ]
  },
  {
   "cell_type": "code",
   "execution_count": 30,
   "metadata": {},
   "outputs": [
    {
     "name": "stdout",
     "output_type": "stream",
     "text": [
      "Hello, what are you  doing? malik mahad\n",
      "Hello, what are you doing?  ali\n",
      "Hello,  what are you doing? afnan\n"
     ]
    }
   ],
   "source": [
    "#exercise 3-2\n",
    "print(f\"Hello, what are you  doing? {name[0]}\")\n",
    "print(f\"Hello, what are you doing?  {name[1]}\")\n",
    "print(f\"Hello,  what are you doing? {name[2]}\")"
   ]
  },
  {
   "cell_type": "code",
   "execution_count": 31,
   "metadata": {},
   "outputs": [
    {
     "name": "stdout",
     "output_type": "stream",
     "text": [
      "I would  like to own Honda civic\n",
      "I would  like to own Alto\n",
      "Hi dear ali ,I invite you to  dinner with me\n",
      "Hi dear mahad, I invite you to dinner with me\n",
      "Hi dear malik Tariq, I invite you  to dinner with me\n",
      "ali can not make it.\n",
      "Hi dear malik Asad, I inviting you to dinner with me.\n",
      "Hi dear mahad,I inviting you to dinner with me.\n",
      "Hi dear malik Tariq, I inviting you to dinner with me.\n"
     ]
    }
   ],
   "source": [
    "# exercise3-3\n",
    "favourite_transportation:list=[\"Honda civic\", \"Alto\"]\n",
    "print(f\"I would  like to own {favourite_transportation[0]}\")\n",
    "print(f\"I would  like to own {favourite_transportation[1]}\")\n",
    "\n",
    "inviting_dinner:list=[\"ali\", \"mahad\", \"malik Tariq\"]\n",
    "print(f\"Hi dear {inviting_dinner[0]} ,I invite you to  dinner with me\")\n",
    "print(f\"Hi dear {inviting_dinner[1]}, I invite you to dinner with me\")\n",
    "print(f\"Hi dear {inviting_dinner[2]}, I invite you  to dinner with me\")\n",
    "\n",
    "#exercise3-4\n",
    "print(f\"{inviting_dinner[0]} can not make it.\")\n",
    "inviting_dinner[0] = \"malik Asad\"\n",
    "print(f\"Hi dear {inviting_dinner[0]}, I inviting you to dinner with me.\")\n",
    "print(f\"Hi dear {inviting_dinner[1]},I inviting you to dinner with me.\")\n",
    "print(f\"Hi dear {inviting_dinner[2]}, I inviting you to dinner with me.\")\n",
    "\n",
    "\n"
   ]
  },
  {
   "cell_type": "code",
   "execution_count": 32,
   "metadata": {},
   "outputs": [
    {
     "name": "stdout",
     "output_type": "stream",
     "text": [
      "I have found a bigger table.\n",
      "['malik Asad', 'mahad', 'malik Tariq']\n",
      "Hi dear Noman I invite you to dinner with me.\n",
      "Hi dear malik Asad I invite you to dinner with me.\n",
      "Hi dear Arslan I invite you to dinner with me.\n",
      "Hi dear mahad I invite you to dinner with me.\n",
      "Hi dear malik Tariq I invite you to dinner with me.\n",
      "Hi dear Zahid I invite you to dinner with me.\n"
     ]
    }
   ],
   "source": [
    "print(\"I have found a bigger table.\")\n",
    "print(inviting_dinner)\n",
    "inviting_dinner.insert(0, \"Noman\")\n",
    "inviting_dinner.insert(2, \"Arslan\")\n",
    "inviting_dinner.append(\"Zahid\")\n",
    "print(f\"Hi dear {inviting_dinner[0]} I invite you to dinner with me.\")\n",
    "print(f\"Hi dear {inviting_dinner[1]} I invite you to dinner with me.\")\n",
    "print(f\"Hi dear {inviting_dinner[2]} I invite you to dinner with me.\")\n",
    "print(f\"Hi dear {inviting_dinner[3]} I invite you to dinner with me.\")\n",
    "print(f\"Hi dear {inviting_dinner[4]} I invite you to dinner with me.\")\n",
    "print(f\"Hi dear {inviting_dinner[5]} I invite you to dinner with me.\")\n"
   ]
  },
  {
   "cell_type": "code",
   "execution_count": 33,
   "metadata": {},
   "outputs": [
    {
     "name": "stdout",
     "output_type": "stream",
     "text": [
      "I can invite only two people for dinner \n",
      "['Noman', 'malik Asad', 'Arslan', 'mahad', 'malik Tariq', 'Zahid']\n",
      "sorry Zahid I can invite two people only for dinner.\n",
      "sorry malik Tariq I can invite two people only for dinner.\n",
      "sorry mahad I  can invite two people only for dinner.\n",
      "sorry Arslan I  can invite two people only for dinner.\n",
      "dear Noman you are sill invted.\n",
      "dear malik Asad you are sill invted.\n",
      "[]\n"
     ]
    }
   ],
   "source": [
    "#exercise3-6\n",
    "print(\"I can invite only two people for dinner \")\n",
    "print(inviting_dinner)\n",
    "print(f\"sorry { inviting_dinner.pop()} I can invite two people only for dinner.\" )\n",
    "print(f\"sorry {inviting_dinner.pop()} I can invite two people only for dinner.\" )\n",
    "print(f\"sorry {inviting_dinner.pop()} I  can invite two people only for dinner.\")\n",
    "print(f\"sorry {inviting_dinner.pop()} I  can invite two people only for dinner.\")\n",
    "print(f\"dear {inviting_dinner[0]} you are sill invted.\") \n",
    "print(f\"dear {inviting_dinner[1]} you are sill invted.\") \n",
    "del inviting_dinner[:]\n",
    "print(inviting_dinner)\n"
   ]
  },
  {
   "cell_type": "code",
   "execution_count": 34,
   "metadata": {},
   "outputs": [
    {
     "name": "stdout",
     "output_type": "stream",
     "text": [
      "[]\n"
     ]
    }
   ],
   "source": [
    "print(inviting_dinner)"
   ]
  },
  {
   "cell_type": "code",
   "execution_count": 1,
   "metadata": {},
   "outputs": [
    {
     "name": "stdout",
     "output_type": "stream",
     "text": [
      "['Landon', 'Singapore', 'China', 'ooman', 'saudia arabia']\n",
      "sorted list: ['China', 'Landon', 'Singapore', 'ooman', 'saudia arabia']\n",
      "['Landon', 'Singapore', 'China', 'ooman', 'saudia arabia']\n",
      "reverse order: ['saudia arabia', 'ooman', 'Singapore', 'Landon', 'China']\n",
      "['Landon', 'Singapore', 'China', 'ooman', 'saudia arabia']\n",
      "reverse(): None\n",
      "['saudia arabia', 'ooman', 'China', 'Singapore', 'Landon']\n",
      "['Landon', 'Singapore', 'China', 'ooman', 'saudia arabia']\n",
      "['China', 'Landon', 'Singapore', 'ooman', 'saudia arabia']\n",
      "['saudia arabia', 'ooman', 'Singapore', 'Landon', 'China']\n"
     ]
    }
   ],
   "source": [
    "# define the list of places to vsit\n",
    "places_to_visit: list[str] = ['Landon', 'Singapore', 'China', 'ooman', 'saudia arabia',] \n",
    "print(places_to_visit)\n",
    "print(f\"sorted list: {sorted(places_to_visit)}\")\n",
    "print(places_to_visit)\n",
    "print(f\"reverse order: {sorted(places_to_visit, reverse=True)}\")\n",
    "print(places_to_visit)\n",
    "print(f\"reverse(): {places_to_visit.reverse()}\")\n",
    "print(places_to_visit)\n",
    "places_to_visit.reverse()\n",
    "print(places_to_visit)\n",
    "places_to_visit.sort()\n",
    "print(places_to_visit)\n",
    "places_to_visit.sort(reverse=True)\n",
    "print(places_to_visit)\n"
   ]
  },
  {
   "cell_type": "code",
   "execution_count": 15,
   "metadata": {},
   "outputs": [
    {
     "name": "stdout",
     "output_type": "stream",
     "text": [
      "['mountains', 'rivers', 'cities', 'languages']\n",
      "geting the first value from the list is mountains\n",
      "['mountains', 'rivers', 'cities', 'languages', 'beaches']\n",
      "['mountains', 'rivers', 'deserts', 'cities', 'languages', 'beaches']\n",
      "['mountains', 'rivers', 'deserts', 'cities', 'languages']\n",
      "['mountains', 'rivers', 'deserts', 'languages']\n",
      "['mountains', 'deserts', 'languages']\n",
      "['languages', 'deserts', 'mountains']\n",
      "['deserts', 'languages', 'mountains']\n",
      "['mountains', 'languages', 'deserts']\n",
      "new_list values are: ['mountains', 'languages', 'deserts'].\n",
      "['mountains', 'languages', 'deserts', 'rice', 'wheat', 'vegetables']\n",
      "1\n",
      "[]\n"
     ]
    }
   ],
   "source": [
    "list_of_things: list[str]=['mountains', 'rivers', 'cities', 'languages',]\n",
    "print(list_of_things)\n",
    "# get the values from the list\n",
    "print(f\"geting the first value from the list is {list_of_things[0]}\")\n",
    "# addthe values to the list at the end of the list\n",
    "\n",
    "list_of_things.append('beaches')\n",
    "print(list_of_things)\n",
    "\n",
    "# add the values to the at specific index\n",
    "\n",
    "list_of_things.insert(2, 'deserts')\n",
    "print(list_of_things)\n",
    "\n",
    "# remove the value from the list at the end of list\n",
    "\n",
    "list_of_things.pop()\n",
    "print(list_of_things)\n",
    "\n",
    "# remove the value from list at specific index\n",
    "list_of_things.pop(3)\n",
    "print(list_of_things)\n",
    "\n",
    "# remove the value from the list using value of list\n",
    "list_of_things.remove('rivers')\n",
    "print(list_of_things)\n",
    "\n",
    "# reverse the list\n",
    "list_of_things.reverse()\n",
    "print(list_of_things)\n",
    "\n",
    "#sort the list using sorted() so that the original order is not changed \n",
    "sorted_list_reverse = sorted(list_of_things)\n",
    "print(sorted_list_reverse)\n",
    "# sort the list in reverse order using sort()\n",
    "list_of_things.sort(reverse= True)\n",
    "print(list_of_things)\n",
    "\n",
    "# coping list of thing \n",
    "new_list= list_of_things.copy()\n",
    "print(f\"new_list values are: {new_list}.\")\n",
    "\n",
    "# extend the list of thing with a new list\n",
    "add_list: list[str] = ['rice', 'wheat', 'vegetables',] \n",
    "list_of_things.extend(add_list)\n",
    "print(list_of_things)\n",
    "# count the number of value in a list \n",
    "number_values: int = list_of_things.count('rice')\n",
    "print(number_values)\n",
    "\n",
    "# to delete all the values from a list we used clear method of list\n",
    "list_of_things.clear()\n",
    "print(list_of_things)"
   ]
  },
  {
   "cell_type": "code",
   "execution_count": 17,
   "metadata": {},
   "outputs": [
    {
     "name": "stdout",
     "output_type": "stream",
     "text": [
      "['rice', 'wheat', 'vegetables']\n"
     ]
    },
    {
     "ename": "IndexError",
     "evalue": "list index out of range",
     "output_type": "error",
     "traceback": [
      "\u001b[1;31m---------------------------------------------------------------------------\u001b[0m",
      "\u001b[1;31mIndexError\u001b[0m                                Traceback (most recent call last)",
      "Cell \u001b[1;32mIn[17], line 2\u001b[0m\n\u001b[0;32m      1\u001b[0m \u001b[38;5;28mprint\u001b[39m(add_list)\n\u001b[1;32m----> 2\u001b[0m \u001b[38;5;28mprint\u001b[39m(\u001b[43madd_list\u001b[49m\u001b[43m[\u001b[49m\u001b[38;5;241;43m3\u001b[39;49m\u001b[43m]\u001b[49m)\n",
      "\u001b[1;31mIndexError\u001b[0m: list index out of range"
     ]
    }
   ],
   "source": [
    "print(add_list)\n",
    "print(add_list[3])"
   ]
  },
  {
   "cell_type": "code",
   "execution_count": 18,
   "metadata": {},
   "outputs": [
    {
     "name": "stdout",
     "output_type": "stream",
     "text": [
      "vegetables\n"
     ]
    }
   ],
   "source": [
    "print(add_list[2])"
   ]
  },
  {
   "cell_type": "code",
   "execution_count": null,
   "metadata": {},
   "outputs": [],
   "source": []
  }
 ],
 "metadata": {
  "kernelspec": {
   "display_name": "Python 3",
   "language": "python",
   "name": "python3"
  },
  "language_info": {
   "codemirror_mode": {
    "name": "ipython",
    "version": 3
   },
   "file_extension": ".py",
   "mimetype": "text/x-python",
   "name": "python",
   "nbconvert_exporter": "python",
   "pygments_lexer": "ipython3",
   "version": "3.12.1"
  }
 },
 "nbformat": 4,
 "nbformat_minor": 2
}
